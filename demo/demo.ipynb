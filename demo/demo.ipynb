{
 "cells": [
  {
   "cell_type": "markdown",
   "metadata": {},
   "source": [
    "# Reprint cell magic\n",
    "This is a minimal jupyter notebook to show how to define and use the `reprint` magic.\n",
    "\n",
    "The `reprint` cell magic will both print in output the content of the cell (properly formatted as python code)\n",
    "and also run the cell.\n",
    "\n",
    "This magic is particularly useful to show some code in combination with [appmode](https://github.com/oschuett/appmode).\n",
    "\n",
    "Below a demonstration follows."
   ]
  },
  {
   "cell_type": "code",
   "execution_count": null,
   "metadata": {},
   "outputs": [],
   "source": [
    "# We need to register the magic by hand\n",
    "# Probably there is a better way to do it automatically with setup.py?\n",
    "# One would need to edit a file in the ipython configuration file and add something like:\n",
    "# c.InteractiveShellApp.extensions = ['reprint_magic']\n",
    "%load_ext reprint_magic"
   ]
  },
  {
   "cell_type": "markdown",
   "metadata": {},
   "source": [
    "# Tutorial: write a function that doubles a number given in input\n",
    "The following function does the job:"
   ]
  },
  {
   "cell_type": "code",
   "execution_count": null,
   "metadata": {},
   "outputs": [],
   "source": [
    "%%reprint\n",
    "def double_number(number):\n",
    "    return 2*number"
   ]
  },
  {
   "cell_type": "markdown",
   "metadata": {},
   "source": [
    "## Checking the results\n",
    "We can try if it works now, with the following code:"
   ]
  },
  {
   "cell_type": "code",
   "execution_count": null,
   "metadata": {},
   "outputs": [],
   "source": [
    "%%reprint\n",
    "for number in range(9):\n",
    "    double = double_number(number)\n",
    "    print(\"Number: {}; computed double: {}\".format(\n",
    "        number, double\n",
    "    ))"
   ]
  },
  {
   "cell_type": "markdown",
   "metadata": {},
   "source": [
    "\n",
    "# Stylistic details\n",
    "You can also avoid showing the box around the code using `%%reprint --no-box` or `reprint -n`. \n",
    "\n",
    "The result will look like this:"
   ]
  },
  {
   "cell_type": "code",
   "execution_count": null,
   "metadata": {},
   "outputs": [],
   "source": [
    "%%reprint -n\n",
    "print(\"Hello world\")"
   ]
  },
  {
   "cell_type": "code",
   "execution_count": null,
   "metadata": {},
   "outputs": [],
   "source": []
  }
 ],
 "metadata": {
  "kernelspec": {
   "display_name": "Python 3",
   "language": "python",
   "name": "python3"
  },
  "language_info": {
   "codemirror_mode": {
    "name": "ipython",
    "version": 3
   },
   "file_extension": ".py",
   "mimetype": "text/x-python",
   "name": "python",
   "nbconvert_exporter": "python",
   "pygments_lexer": "ipython3",
   "version": "3.5.2"
  }
 },
 "nbformat": 4,
 "nbformat_minor": 2
}
